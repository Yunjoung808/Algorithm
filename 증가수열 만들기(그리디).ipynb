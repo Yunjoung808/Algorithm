{
 "cells": [
  {
   "cell_type": "markdown",
   "metadata": {},
   "source": [
    "## 증가수열 만들기(그리디)\n",
    "\n",
    "#### 강의풀이\n",
    "\n",
    "문제가 잘 이해안감;;\n",
    "참고 https://jason9319.tistory.com/113"
   ]
  },
  {
   "cell_type": "code",
   "execution_count": 2,
   "metadata": {},
   "outputs": [
    {
     "name": "stdout",
     "output_type": "stream",
     "text": [
      "4\n",
      "LRLL\n"
     ]
    }
   ],
   "source": [
    "n=5\n",
    "a=[2,4,5,1,3]\n",
    "lt=0\n",
    "rt=n-1\n",
    "last=0\n",
    "res=\"\"\n",
    "temp=[]\n",
    "\n",
    "while lt<=rt:\n",
    "    if a[lt]>last:\n",
    "        temp.append((a[lt], 'L'))\n",
    "    if a[rt]>last:\n",
    "        temp.append((a[rt],'R'))\n",
    "    temp.sort()\n",
    "    if len(temp)==0:\n",
    "        break\n",
    "    else:\n",
    "        res=res+temp[0][1]\n",
    "        last=temp[0][0]\n",
    "        if temp[0][1]=='L':\n",
    "            lt+=1\n",
    "        else:\n",
    "            rt-=1\n",
    "    temp.clear()\n",
    "print(len(res))\n",
    "print(res)\n",
    "            "
   ]
  },
  {
   "cell_type": "code",
   "execution_count": null,
   "metadata": {},
   "outputs": [],
   "source": []
  }
 ],
 "metadata": {
  "kernelspec": {
   "display_name": "Python 3",
   "language": "python",
   "name": "python3"
  },
  "language_info": {
   "codemirror_mode": {
    "name": "ipython",
    "version": 3
   },
   "file_extension": ".py",
   "mimetype": "text/x-python",
   "name": "python",
   "nbconvert_exporter": "python",
   "pygments_lexer": "ipython3",
   "version": "3.7.6"
  }
 },
 "nbformat": 4,
 "nbformat_minor": 4
}
