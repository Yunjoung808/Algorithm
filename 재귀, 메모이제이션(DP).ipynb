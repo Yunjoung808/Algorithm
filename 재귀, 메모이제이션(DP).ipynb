{
 "cells": [
  {
   "cell_type": "markdown",
   "metadata": {},
   "source": [
    "## 재귀, 메모이제이션 : Top-Down 방식 (DP)\n",
    "\n",
    "\n",
    "#### 강의 풀이"
   ]
  },
  {
   "cell_type": "code",
   "execution_count": 7,
   "metadata": {},
   "outputs": [
    {
     "name": "stdout",
     "output_type": "stream",
     "text": [
      "21\n"
     ]
    }
   ],
   "source": [
    "n=7\n",
    "\n",
    "def DFS(m):\n",
    "    if dy[m]>0:\n",
    "        return dy[m]\n",
    "    \n",
    "    if m == 1 or m == 2:\n",
    "        return m\n",
    "    else:\n",
    "        dy[m]=DFS(m-1)+DFS(m-2)\n",
    "        return dy[m]\n",
    "    \n",
    "if __name__==\"__main__\":\n",
    "    dy=[0]*(n+1)\n",
    "    print(DFS(n))\n",
    "    "
   ]
  }
 ],
 "metadata": {
  "kernelspec": {
   "display_name": "Python 3",
   "language": "python",
   "name": "python3"
  },
  "language_info": {
   "codemirror_mode": {
    "name": "ipython",
    "version": 3
   },
   "file_extension": ".py",
   "mimetype": "text/x-python",
   "name": "python",
   "nbconvert_exporter": "python",
   "pygments_lexer": "ipython3",
   "version": "3.7.6"
  }
 },
 "nbformat": 4,
 "nbformat_minor": 4
}
