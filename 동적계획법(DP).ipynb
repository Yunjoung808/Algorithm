{
 "cells": [
  {
   "cell_type": "markdown",
   "metadata": {},
   "source": [
    "## 동적계획법 (DP)\n",
    "\n",
    "#### 네트워크 선 자르기 (Bottom-Up)\n",
    "앞에 구해놓은 해를 이용해 최종적인 해를 구하는 방법\n",
    "\n",
    "#### Q. 네트워크 선을 1m, 2m의 길이를 갖는 선으로 자르려고 합니다.\n",
    "#### 예를 들어 4m의 네트워크 선이 주어진다면\n",
    "\n",
    "1+1+1+1\n",
    "2+1+1+\n",
    "1+2+1\n",
    "1+1+2\n",
    "2+2\n",
    "\n",
    "#### 의 다섯가지 방법을 생각할 수 있습니다.\n",
    "\n",
    "#### 네트워크 선의 길이가 n이라면 몇 가지의 자르는 방법을 생각할 수 있을까요?\n",
    "\n",
    "n=7\n",
    "\n",
    "dy 1차원 배열을 만들고 첫번째 자리에 전부 1로 잘랐을때 가지수를 넣는다.\n",
    "dy[0] = 1\n",
    "\n",
    "2로 잘랐을때\n",
    "dy[1] = 2\n",
    "\n",
    "3일 경우를 생각하면  1로 잘랐을때 가지수와 2로 잘랐을때 가지수를 더하면된다.\n",
    "dy=[2] = 3\n",
    "\n",
    "4일 경우 앞의 두 수를 더하면된다.\n",
    "dy[3] = 5\n",
    "\n",
    "결국 규칙을 식으로 나타내면 \n",
    "\n",
    "#### f(n) = f(n-2) + f(n-1) 이 된다.\n",
    "\n",
    "이를 코드로 구현해보면\n"
   ]
  },
  {
   "cell_type": "code",
   "execution_count": 1,
   "metadata": {},
   "outputs": [
    {
     "name": "stdout",
     "output_type": "stream",
     "text": [
      "21\n"
     ]
    }
   ],
   "source": [
    "n=7\n",
    "\n",
    "dy=[0]*(n+1)\n",
    "dy[1]=1\n",
    "dy[2]=2\n",
    "\n",
    "for i in range(3, n+1):\n",
    "    dy[i] = dy[i-1]+ dy[i-2]\n",
    "    \n",
    "print(dy[n])"
   ]
  },
  {
   "cell_type": "code",
   "execution_count": null,
   "metadata": {},
   "outputs": [],
   "source": []
  }
 ],
 "metadata": {
  "kernelspec": {
   "display_name": "Python 3",
   "language": "python",
   "name": "python3"
  },
  "language_info": {
   "codemirror_mode": {
    "name": "ipython",
    "version": 3
   },
   "file_extension": ".py",
   "mimetype": "text/x-python",
   "name": "python",
   "nbconvert_exporter": "python",
   "pygments_lexer": "ipython3",
   "version": "3.7.6"
  }
 },
 "nbformat": 4,
 "nbformat_minor": 4
}
