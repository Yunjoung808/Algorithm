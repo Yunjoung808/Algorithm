{
 "cells": [
  {
   "cell_type": "markdown",
   "metadata": {},
   "source": [
    "## 두 개 뽑아서 더하기\n",
    "\n",
    "- 정수 배열 numbers가 주어집니다. numbers에서 서로 다른 인덱스에 있는 두 개의 수를 뽑아 더해서 만들 수 있는 모든 수를 배열에 오름차순으로 담아 return 하도록 solution 함수를 완성해주세요.\n",
    "\n",
    "- https://programmers.co.kr/learn/courses/30/lessons/68644?language=python3"
   ]
  },
  {
   "cell_type": "code",
   "execution_count": null,
   "metadata": {},
   "outputs": [],
   "source": [
    "def solution(numbers):\n",
    "    anwser = []\n",
    "    results = []\n",
    "    for i in range(len(numbers)-1):\n",
    "        a=numbers[i]\n",
    "        i=i+1\n",
    "        for j in range(i,len(numbers)):\n",
    "            num=a+numbers[j]\n",
    "            results.append(num)\n",
    "    answer=list(set(results))\n",
    "    answer=sorted(answer)\n",
    "                \n",
    "    return answer"
   ]
  },
  {
   "cell_type": "markdown",
   "metadata": {},
   "source": [
    "### 풀이\n",
    "\n",
    "- 이중 for문으로 모든 더하기 경우의 수를 만든다.\n",
    "- 리스트 안 중복 수를 list(set(  )) 으로 제거한다.\n",
    "- 오름차순으로 정렬한다."
   ]
  }
 ],
 "metadata": {
  "kernelspec": {
   "display_name": "Python 3",
   "language": "python",
   "name": "python3"
  },
  "language_info": {
   "codemirror_mode": {
    "name": "ipython",
    "version": 3
   },
   "file_extension": ".py",
   "mimetype": "text/x-python",
   "name": "python",
   "nbconvert_exporter": "python",
   "pygments_lexer": "ipython3",
   "version": "3.7.6"
  }
 },
 "nbformat": 4,
 "nbformat_minor": 4
}
