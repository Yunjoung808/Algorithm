{
 "cells": [
  {
   "cell_type": "markdown",
   "metadata": {},
   "source": [
    "## 계단 오르기 Top-Down : 메모이제이션 (DP)\n"
   ]
  },
  {
   "cell_type": "code",
   "execution_count": 1,
   "metadata": {},
   "outputs": [
    {
     "name": "stdout",
     "output_type": "stream",
     "text": [
      "5\n"
     ]
    }
   ],
   "source": [
    "# Top-Down 방식\n",
    "\n",
    "n=4\n",
    "\n",
    "def DFS(m):\n",
    "    if dy[m]>0:\n",
    "        return dy[m]\n",
    "    \n",
    "    if m == 1 or m == 2:\n",
    "        return m\n",
    "    else:\n",
    "        dy[m]=DFS(m-1)+DFS(m-2)\n",
    "        return dy[m]\n",
    "    \n",
    "if __name__==\"__main__\":\n",
    "    dy=[0]*(n+1)\n",
    "    print(DFS(n))\n",
    "    "
   ]
  },
  {
   "cell_type": "code",
   "execution_count": 2,
   "metadata": {},
   "outputs": [
    {
     "name": "stdout",
     "output_type": "stream",
     "text": [
      "5\n"
     ]
    }
   ],
   "source": [
    "# Bottom-Up 방식\n",
    "\n",
    "n=4\n",
    "\n",
    "dy=[0]*(n+1)\n",
    "dy[1]=1\n",
    "dy[2]=2\n",
    "\n",
    "for i in range(3, n+1):\n",
    "    dy[i] = dy[i-1]+ dy[i-2]\n",
    "    \n",
    "print(dy[n])"
   ]
  },
  {
   "cell_type": "code",
   "execution_count": null,
   "metadata": {},
   "outputs": [],
   "source": []
  }
 ],
 "metadata": {
  "kernelspec": {
   "display_name": "Python 3",
   "language": "python",
   "name": "python3"
  },
  "language_info": {
   "codemirror_mode": {
    "name": "ipython",
    "version": 3
   },
   "file_extension": ".py",
   "mimetype": "text/x-python",
   "name": "python",
   "nbconvert_exporter": "python",
   "pygments_lexer": "ipython3",
   "version": "3.7.6"
  }
 },
 "nbformat": 4,
 "nbformat_minor": 4
}
