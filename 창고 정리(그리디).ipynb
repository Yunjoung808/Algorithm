{
 "cells": [
  {
   "cell_type": "markdown",
   "metadata": {},
   "source": [
    "## 창고 정리 (그리디)\n",
    "\n",
    "#### 나의 풀이\n",
    "\n",
    "소요시간 : 18분"
   ]
  },
  {
   "cell_type": "code",
   "execution_count": 26,
   "metadata": {},
   "outputs": [
    {
     "name": "stdout",
     "output_type": "stream",
     "text": [
      "20\n"
     ]
    }
   ],
   "source": [
    "l = 10\n",
    "box = 69, 42, 68, 76, 40, 87, 14, 65, 76, 81\n",
    "m = 50\n",
    "\n",
    "box = list(box)\n",
    "\n",
    "\n",
    "\n",
    "for _ in range(50):\n",
    "    temp=min(box)\n",
    "    box.append(temp+1)\n",
    "    box.remove(temp)\n",
    "    \n",
    "    \n",
    "    temp2=max(box)\n",
    "    box.append(temp2-1)\n",
    "    box.remove(temp2)\n",
    "    \n",
    "\n",
    "result = max(box) - min(box)\n",
    "\n",
    "\n",
    "print(result)\n"
   ]
  },
  {
   "cell_type": "markdown",
   "metadata": {},
   "source": [
    "#### 강의 풀이\n",
    "\n",
    "sort를 통해서 가장 앞에 있는 수에 +1 하고 가장 뒤에 있는 수에 -1 해준다."
   ]
  },
  {
   "cell_type": "code",
   "execution_count": 28,
   "metadata": {},
   "outputs": [
    {
     "name": "stdout",
     "output_type": "stream",
     "text": [
      "20\n"
     ]
    }
   ],
   "source": [
    "L = 10\n",
    "a = [69, 42, 68, 76, 40, 87, 14, 65, 76, 81]\n",
    "m = 50\n",
    "\n",
    "a.sort()\n",
    "\n",
    "for _ in range(m):\n",
    "    a[0]+=1\n",
    "    a[L-1]-=1\n",
    "    a.sort()\n",
    "\n",
    "print(a[L-1]-a[0])"
   ]
  },
  {
   "cell_type": "code",
   "execution_count": null,
   "metadata": {},
   "outputs": [],
   "source": []
  }
 ],
 "metadata": {
  "kernelspec": {
   "display_name": "Python 3",
   "language": "python",
   "name": "python3"
  },
  "language_info": {
   "codemirror_mode": {
    "name": "ipython",
    "version": 3
   },
   "file_extension": ".py",
   "mimetype": "text/x-python",
   "name": "python",
   "nbconvert_exporter": "python",
   "pygments_lexer": "ipython3",
   "version": "3.7.6"
  }
 },
 "nbformat": 4,
 "nbformat_minor": 4
}
