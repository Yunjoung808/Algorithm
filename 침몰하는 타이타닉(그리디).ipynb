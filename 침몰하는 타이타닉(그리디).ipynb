{
 "cells": [
  {
   "cell_type": "markdown",
   "metadata": {},
   "source": [
    "## 침몰하는 타이타닉(그리디)\n",
    "\n",
    "#### 강의풀이1 : pop()이용"
   ]
  },
  {
   "cell_type": "code",
   "execution_count": 6,
   "metadata": {},
   "outputs": [],
   "source": [
    "n= 5\n",
    "m= 140\n",
    "w=[90, 50, 70, 100, 60]\n",
    "cnt=0\n",
    "\n",
    "w.sort()\n",
    "\n",
    "while w:\n",
    "    if len(w) ==1:\n",
    "        cnt+=1\n",
    "        break\n",
    "    if w[0]+w[-1]>m:\n",
    "        w.pop()\n",
    "        cnt+=1\n",
    "    else:\n",
    "        w.pop(0)\n",
    "        w.pop()\n",
    "        cnt+=1\n",
    "        \n"
   ]
  },
  {
   "cell_type": "code",
   "execution_count": 7,
   "metadata": {},
   "outputs": [
    {
     "name": "stdout",
     "output_type": "stream",
     "text": [
      "3\n"
     ]
    }
   ],
   "source": [
    "print(cnt)"
   ]
  },
  {
   "cell_type": "markdown",
   "metadata": {},
   "source": [
    "#### 강의풀이2: deque() 이용\n"
   ]
  },
  {
   "cell_type": "code",
   "execution_count": 9,
   "metadata": {},
   "outputs": [
    {
     "name": "stdout",
     "output_type": "stream",
     "text": [
      "3\n"
     ]
    }
   ],
   "source": [
    "from collections import deque\n",
    "n= 5\n",
    "m= 140\n",
    "w=[90, 50, 70, 100, 60]\n",
    "cnt=0\n",
    "\n",
    "w.sort()\n",
    "w=deque(w)\n",
    "\n",
    "while w:\n",
    "    if len(w) ==1:\n",
    "        cnt+=1\n",
    "        break\n",
    "    if w[0]+w[-1]>m:\n",
    "        w.pop()\n",
    "        cnt+=1\n",
    "    else:\n",
    "        w.popleft()\n",
    "        w.pop()\n",
    "        cnt+=1\n",
    "print(cnt)"
   ]
  },
  {
   "cell_type": "code",
   "execution_count": null,
   "metadata": {},
   "outputs": [],
   "source": []
  }
 ],
 "metadata": {
  "kernelspec": {
   "display_name": "Python 3",
   "language": "python",
   "name": "python3"
  },
  "language_info": {
   "codemirror_mode": {
    "name": "ipython",
    "version": 3
   },
   "file_extension": ".py",
   "mimetype": "text/x-python",
   "name": "python",
   "nbconvert_exporter": "python",
   "pygments_lexer": "ipython3",
   "version": "3.7.6"
  }
 },
 "nbformat": 4,
 "nbformat_minor": 4
}
