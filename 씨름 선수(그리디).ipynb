{
 "cells": [
  {
   "cell_type": "markdown",
   "metadata": {},
   "source": [
    "## 씨름 선수 (그리디)\n",
    "\n",
    "#### 나의 풀이\n",
    "\n",
    "소요시간 :12분"
   ]
  },
  {
   "cell_type": "code",
   "execution_count": 2,
   "metadata": {},
   "outputs": [],
   "source": [
    "fighter = [[172, 67], [183, 65], [180, 70], [170, 72], [181, 60]]"
   ]
  },
  {
   "cell_type": "code",
   "execution_count": 3,
   "metadata": {},
   "outputs": [
    {
     "name": "stdout",
     "output_type": "stream",
     "text": [
      "[[183, 65], [181, 60], [180, 70], [172, 67], [170, 72]]\n"
     ]
    }
   ],
   "source": [
    "fighter.sort(reverse=True)\n",
    "print(fighter)"
   ]
  },
  {
   "cell_type": "code",
   "execution_count": 11,
   "metadata": {},
   "outputs": [
    {
     "name": "stdout",
     "output_type": "stream",
     "text": [
      "3\n"
     ]
    }
   ],
   "source": [
    "lg = fighter[0][1]\n",
    "cnt=1\n",
    "\n",
    "for i in range(1, len(fighter)):\n",
    "    if fighter[i][1] > lg:\n",
    "        lg=fighter[i][1]\n",
    "        cnt+=1\n",
    "\n",
    "print(cnt)"
   ]
  },
  {
   "cell_type": "markdown",
   "metadata": {},
   "source": [
    "#### 강의 풀이"
   ]
  },
  {
   "cell_type": "code",
   "execution_count": 14,
   "metadata": {},
   "outputs": [
    {
     "name": "stdout",
     "output_type": "stream",
     "text": [
      "3\n"
     ]
    }
   ],
   "source": [
    "body=[(172, 67), (183, 65), (180,70), (170,72), (181, 60)]\n",
    "\n",
    "body.sort(reverse=True) #첫번째 자료를 기준으로 내림차순 정리\n",
    "\n",
    "largest=0\n",
    "cnt=0\n",
    "\n",
    "for x,y in body:\n",
    "    if y>largest:\n",
    "        largest=y\n",
    "        cnt+=1\n",
    "print(cnt)"
   ]
  },
  {
   "cell_type": "code",
   "execution_count": null,
   "metadata": {},
   "outputs": [],
   "source": []
  }
 ],
 "metadata": {
  "kernelspec": {
   "display_name": "Python 3",
   "language": "python",
   "name": "python3"
  },
  "language_info": {
   "codemirror_mode": {
    "name": "ipython",
    "version": 3
   },
   "file_extension": ".py",
   "mimetype": "text/x-python",
   "name": "python",
   "nbconvert_exporter": "python",
   "pygments_lexer": "ipython3",
   "version": "3.7.6"
  }
 },
 "nbformat": 4,
 "nbformat_minor": 4
}
