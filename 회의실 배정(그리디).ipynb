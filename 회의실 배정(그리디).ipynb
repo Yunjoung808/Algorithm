{
 "cells": [
  {
   "cell_type": "markdown",
   "metadata": {},
   "source": [
    "## 회의실 배정(그리디)\n",
    "\n",
    "#### 강의 풀이\n",
    "#### 보통 그리디문제는 정렬!\n",
    "#### 이 문제에서는 회의가 끝나는 시간을 기준으로 정렬해야함"
   ]
  },
  {
   "cell_type": "code",
   "execution_count": 1,
   "metadata": {},
   "outputs": [],
   "source": [
    "n=5\n",
    "meeting=[(1,4),(2,3),(3,5),(4,6),(5,7)]"
   ]
  },
  {
   "cell_type": "code",
   "execution_count": 4,
   "metadata": {},
   "outputs": [
    {
     "name": "stdout",
     "output_type": "stream",
     "text": [
      "3\n"
     ]
    }
   ],
   "source": [
    "# 튜플의 앞자리 기준으로 sorting은\n",
    "#meeting.sort()\n",
    "\n",
    "# 튜플의 뒷자리를 기준으로 sorting하려면\n",
    "meeting.sort(key=lambda x : (x[1], x[0]))\n",
    "\n",
    "endtime=0\n",
    "cnt=0\n",
    "\n",
    "for s, e in meeting:\n",
    "    if s>=endtime:\n",
    "        endtime=e\n",
    "        cnt+=1\n",
    "\n",
    "print(cnt)\n",
    "        "
   ]
  },
  {
   "cell_type": "code",
   "execution_count": null,
   "metadata": {},
   "outputs": [],
   "source": []
  }
 ],
 "metadata": {
  "kernelspec": {
   "display_name": "Python 3",
   "language": "python",
   "name": "python3"
  },
  "language_info": {
   "codemirror_mode": {
    "name": "ipython",
    "version": 3
   },
   "file_extension": ".py",
   "mimetype": "text/x-python",
   "name": "python",
   "nbconvert_exporter": "python",
   "pygments_lexer": "ipython3",
   "version": "3.7.6"
  }
 },
 "nbformat": 4,
 "nbformat_minor": 4
}
