{
 "cells": [
  {
   "cell_type": "markdown",
   "metadata": {},
   "source": [
    "### 인프런 [ 숫자만 추출] \n",
    "\n",
    "#### 나의 풀이  풀이시간: 15분"
   ]
  },
  {
   "cell_type": "code",
   "execution_count": 4,
   "metadata": {},
   "outputs": [
    {
     "name": "stdout",
     "output_type": "stream",
     "text": [
      "['0', '2', '8']\n"
     ]
    }
   ],
   "source": [
    "data = \"g0en2Ts8eSoft\"\n",
    "\n",
    "data =list(data)\n",
    "int_data=[]\n",
    "for i in range(len(data)):\n",
    "    if data[i].isdigit() == True:\n",
    "        int_data.append(data[i])\n",
    "print(int_data)"
   ]
  },
  {
   "cell_type": "code",
   "execution_count": 5,
   "metadata": {},
   "outputs": [
    {
     "name": "stdout",
     "output_type": "stream",
     "text": [
      "028\n"
     ]
    }
   ],
   "source": [
    "data=''.join(int_data)\n",
    "print(data)"
   ]
  },
  {
   "cell_type": "code",
   "execution_count": 6,
   "metadata": {},
   "outputs": [
    {
     "name": "stdout",
     "output_type": "stream",
     "text": [
      "28\n"
     ]
    }
   ],
   "source": [
    "data=int(data)\n",
    "print(data)"
   ]
  },
  {
   "cell_type": "code",
   "execution_count": 7,
   "metadata": {},
   "outputs": [
    {
     "name": "stdout",
     "output_type": "stream",
     "text": [
      "28 6\n"
     ]
    }
   ],
   "source": [
    "count=0\n",
    "for i in range(1, data+1):\n",
    "    if data % i == 0:\n",
    "        count += 1\n",
    "\n",
    "print(data, count)\n",
    "        "
   ]
  },
  {
   "cell_type": "markdown",
   "metadata": {},
   "source": [
    "#### 선생님 풀이"
   ]
  },
  {
   "cell_type": "code",
   "execution_count": null,
   "metadata": {},
   "outputs": [],
   "source": [
    "s = \"g0en2Ts8eSoft\"\n",
    "res = 0\n",
    "\n",
    "for x in s:\n",
    "    if x.isdecimal():\n",
    "        res=res*10+int(x)\n",
    "print()"
   ]
  }
 ],
 "metadata": {
  "kernelspec": {
   "display_name": "Python 3",
   "language": "python",
   "name": "python3"
  },
  "language_info": {
   "codemirror_mode": {
    "name": "ipython",
    "version": 3
   },
   "file_extension": ".py",
   "mimetype": "text/x-python",
   "name": "python",
   "nbconvert_exporter": "python",
   "pygments_lexer": "ipython3",
   "version": "3.7.6"
  }
 },
 "nbformat": 4,
 "nbformat_minor": 4
}
